{
 "cells": [
  {
   "cell_type": "markdown",
   "id": "b3583d02-8c37-4428-9816-c95266bb6818",
   "metadata": {},
   "source": [
    "# Molecular Graph Theory Exercises"
   ]
  },
  {
   "cell_type": "code",
   "execution_count": 1,
   "id": "cda8ea76-c2ed-49d8-8c2d-379ece6d9c81",
   "metadata": {},
   "outputs": [],
   "source": [
    "import os\n",
    "import sys\n",
    "import networkx\n",
    "from typing import Union, Dict, Tuple, List, Set\n",
    "from numpy import ndarray\n",
    "from networkx import Graph\n",
    "from pysmiles.read_smiles import read_smiles\n",
    "from rdkit.Chem import Mol, MolFromSmiles, GetAdjacencyMatrix\n",
    "\n",
    "os.environ['NUMEXPR_MAX_THREADS'] = '16'\n",
    "os.environ['MOL_GRAPH_PYTHON_BASE_PATH'] =  os.path.join(os.getcwd(), '../src')\n",
    "sys.path.append(os.getenv('MOL_GRAPH_PYTHON_BASE_PATH'))\n",
    "\n",
    "from smiles import MolecularGraphSmilesParser\n",
    "from utils import matrix_utils"
   ]
  },
  {
   "cell_type": "markdown",
   "id": "c0be6f38-0c42-4d13-a249-3fb2cfd9621c",
   "metadata": {},
   "source": [
    "## 1.1.1 Introduction To The Molecular Graph Representation\n",
    "**Exercise:**\n",
    "1. Write custom `MolecularGraphSmilesParser` and `UndirectedMolecularGraph` classes to parse SMILES string of ciprofloxacin into an undirected molecular graph. Output node & edge attribute data\n",
    "2. In reality there is no need to create your own parser and molecular graph classes as many open source packages are available (e.g. `networkx`, `pysmiles`, `rdkit.Chem` etc.). Use PySMILES package to generate a NetworkX Graph object from ciprofloxacin SMILES string"
   ]
  },
  {
   "cell_type": "markdown",
   "id": "7032b32d-52a0-4f0f-b84e-9a353819bdc9",
   "metadata": {},
   "source": [
    "### Part 1 - Custom SMILES String Parser Class and Molecular Graph Class"
   ]
  },
  {
   "cell_type": "code",
   "execution_count": 2,
   "id": "a00194f8-d9d7-446d-b96f-db00cab7be08",
   "metadata": {},
   "outputs": [
    {
     "name": "stdout",
     "output_type": "stream",
     "text": [
      "\u001b[1mCiprofloxacin Custom Molecular Graph:\u001b[0m\n",
      "{0: {'neighbours': [1, 5], 'element': 'C', 'charge': 0, 'aromatic': False}, 1: {'neighbours': [0, 2], 'element': 'C', 'charge': 0, 'aromatic': False}, 2: {'neighbours': [1, 3], 'element': 'N', 'charge': 0, 'aromatic': False}, 3: {'neighbours': [2, 4], 'element': 'C', 'charge': 0, 'aromatic': False}, 4: {'neighbours': [3, 5], 'element': 'C', 'charge': 0, 'aromatic': False}, 5: {'neighbours': [4, 0, 6], 'element': 'N', 'charge': 0, 'aromatic': False}, 6: {'neighbours': [5, 7, 8], 'element': 'C', 'charge': 0, 'aromatic': True}, 7: {'neighbours': [6, 12], 'element': 'C', 'charge': 0, 'aromatic': True}, 8: {'neighbours': [6, 9, 10], 'element': 'C', 'charge': 0, 'aromatic': True}, 9: {'neighbours': [8], 'element': 'F', 'charge': 0, 'aromatic': False}, 10: {'neighbours': [8, 11], 'element': 'C', 'charge': 0, 'aromatic': True}, 11: {'neighbours': [10, 12, 19], 'element': 'C', 'charge': 0, 'aromatic': True}, 12: {'neighbours': [11, 7, 13], 'element': 'C', 'charge': 0, 'aromatic': True}, 13: {'neighbours': [12, 14, 17], 'element': 'N', 'charge': 0, 'aromatic': False}, 14: {'neighbours': [13, 15, 16], 'element': 'C', 'charge': 0, 'aromatic': False}, 15: {'neighbours': [14, 16], 'element': 'C', 'charge': 0, 'aromatic': False}, 16: {'neighbours': [15, 14], 'element': 'C', 'charge': 0, 'aromatic': False}, 17: {'neighbours': [13, 18], 'element': 'C', 'charge': 0, 'aromatic': False}, 18: {'neighbours': [17, 19, 21], 'element': 'C', 'charge': 0, 'aromatic': False}, 19: {'neighbours': [18, 11, 20], 'element': 'C', 'charge': 0, 'aromatic': False}, 20: {'neighbours': [19], 'element': 'O', 'charge': 0, 'aromatic': False}, 21: {'neighbours': [18, 22, 23], 'element': 'C', 'charge': 0, 'aromatic': False}, 22: {'neighbours': [21], 'element': 'O', 'charge': 0, 'aromatic': False}, 23: {'neighbours': [21], 'element': 'O', 'charge': 0, 'aromatic': False}}\n",
      "\n",
      "\u001b[1mNode 0 Attribute Data:\u001b[0m\n",
      "{'neighbours': [1, 5], 'element': 'C', 'charge': 0, 'aromatic': False}\n",
      "\n",
      "\u001b[1mEdge (0, 1) Attribute Data:\u001b[0m\n",
      "{'bond_order': 1}\n",
      "\n"
     ]
    }
   ],
   "source": [
    "# Instantiate SMILES to molecular graph parser\n",
    "molecular_graph_smiles_parser: MolecularGraphSmilesParser = MolecularGraphSmilesParser()\n",
    "ciprofloxacin_smiles: str = 'C1CNCCN1c(c2)c(F)cc3c2N(C4CC4)C=C(C3=O)C(=O)O'\n",
    "custom_mol_graph = molecular_graph_smiles_parser.smiles_to_molecular_graph(ciprofloxacin_smiles)\n",
    "\n",
    "# Output string representation of custom molecular graph\n",
    "custom_mol_graph_str_repr: str = custom_mol_graph.__str__()\n",
    "print(f'\\033[1mCiprofloxacin Custom Molecular Graph:\\033[0m\\n{custom_mol_graph_str_repr}\\n')\n",
    "\n",
    "# Output node 0 attribute data\n",
    "node_0_attr_data: Union[Dict, None] = custom_mol_graph.get_node_data(0)\n",
    "print(f'\\033[1mNode 0 Attribute Data:\\033[0m\\n{node_0_attr_data}\\n')\n",
    "\n",
    "# Output edge (0, 1) attribute data\n",
    "edge_0_1_attr_data: Union[Dict, None] = custom_mol_graph.get_edge_data((0, 1))\n",
    "print(f'\\033[1mEdge (0, 1) Attribute Data:\\033[0m\\n{edge_0_1_attr_data}\\n')"
   ]
  },
  {
   "cell_type": "markdown",
   "id": "47ea3ebb-7ed1-4a2e-addc-73285bfe7d35",
   "metadata": {},
   "source": [
    "### Part 2 - NetworkX Graph Class"
   ]
  },
  {
   "cell_type": "code",
   "execution_count": 3,
   "id": "9735da3c-ca47-437d-8059-d7ee200a9082",
   "metadata": {},
   "outputs": [
    {
     "name": "stdout",
     "output_type": "stream",
     "text": [
      "\u001b[1mCiprofloxacin networkx.Graph from PySMILES:\u001b[0m\n",
      "Graph with 24 nodes and 27 edges\n",
      "\n"
     ]
    }
   ],
   "source": [
    "# Generate ciprofloxacin networkx.Graph object and output string representation\n",
    "pysmiles_mol_graph: Graph = read_smiles(ciprofloxacin_smiles)\n",
    "pysmiles_mol_graph_str_repr: str = pysmiles_mol_graph.__str__()\n",
    "print(f'\\033[1mCiprofloxacin networkx.Graph from PySMILES:\\033[0m\\n{pysmiles_mol_graph_str_repr}\\n')"
   ]
  },
  {
   "cell_type": "markdown",
   "id": "fd345341-2aeb-4a28-8332-689af8c88d48",
   "metadata": {},
   "source": [
    "## 1.1.2 Mathematical Definition of a Graph\n",
    "**Exercise:**   \n",
    "1. Adjacency Matrix - Use two approaches to obtain adjacency matrix:\n",
    "    * Generate adjacency matrix from PySMILES NetworkX Graph object\n",
    "    * Use RDKit to parse SMILES string into RDKit Mol object, convert to adjacency matrix and obtain NetworkX Graph object\n",
    "2. Node Features Matrix - Use PySMILES molecular graph to construct node features matrix that utilises one-hot encoding\n",
    "3. Edge Features Matrix - Use PySMILES molecular graph to construct edge features matrix that utilises one-hot encoding"
   ]
  },
  {
   "cell_type": "markdown",
   "id": "e4941166-95e2-48ec-9f71-36031a0266e6",
   "metadata": {},
   "source": [
    "### Part 1 - Adjacency Matrix "
   ]
  },
  {
   "cell_type": "code",
   "execution_count": 4,
   "id": "a9f2eef9-b0ad-4e9f-a962-d3a55c482744",
   "metadata": {},
   "outputs": [
    {
     "name": "stdout",
     "output_type": "stream",
     "text": [
      "\u001b[1mCiprofloxacin PySMILES adjacency matrix:\u001b[0m\n",
      "[[0 1 0 0 0 1 0 0 0 0 0 0 0 0 0 0 0 0 0 0 0 0 0 0]\n",
      " [1 0 1 0 0 0 0 0 0 0 0 0 0 0 0 0 0 0 0 0 0 0 0 0]\n",
      " [0 1 0 1 0 0 0 0 0 0 0 0 0 0 0 0 0 0 0 0 0 0 0 0]\n",
      " [0 0 1 0 1 0 0 0 0 0 0 0 0 0 0 0 0 0 0 0 0 0 0 0]\n",
      " [0 0 0 1 0 1 0 0 0 0 0 0 0 0 0 0 0 0 0 0 0 0 0 0]\n",
      " [1 0 0 0 1 0 1 0 0 0 0 0 0 0 0 0 0 0 0 0 0 0 0 0]\n",
      " [0 0 0 0 0 1 0 1 1 0 0 0 0 0 0 0 0 0 0 0 0 0 0 0]\n",
      " [0 0 0 0 0 0 1 0 0 0 0 0 1 0 0 0 0 0 0 0 0 0 0 0]\n",
      " [0 0 0 0 0 0 1 0 0 1 1 0 0 0 0 0 0 0 0 0 0 0 0 0]\n",
      " [0 0 0 0 0 0 0 0 1 0 0 0 0 0 0 0 0 0 0 0 0 0 0 0]\n",
      " [0 0 0 0 0 0 0 0 1 0 0 1 0 0 0 0 0 0 0 0 0 0 0 0]\n",
      " [0 0 0 0 0 0 0 0 0 0 1 0 1 0 0 0 0 0 0 1 0 0 0 0]\n",
      " [0 0 0 0 0 0 0 1 0 0 0 1 0 1 0 0 0 0 0 0 0 0 0 0]\n",
      " [0 0 0 0 0 0 0 0 0 0 0 0 1 0 1 0 0 1 0 0 0 0 0 0]\n",
      " [0 0 0 0 0 0 0 0 0 0 0 0 0 1 0 1 1 0 0 0 0 0 0 0]\n",
      " [0 0 0 0 0 0 0 0 0 0 0 0 0 0 1 0 1 0 0 0 0 0 0 0]\n",
      " [0 0 0 0 0 0 0 0 0 0 0 0 0 0 1 1 0 0 0 0 0 0 0 0]\n",
      " [0 0 0 0 0 0 0 0 0 0 0 0 0 1 0 0 0 0 1 0 0 0 0 0]\n",
      " [0 0 0 0 0 0 0 0 0 0 0 0 0 0 0 0 0 1 0 1 0 1 0 0]\n",
      " [0 0 0 0 0 0 0 0 0 0 0 1 0 0 0 0 0 0 1 0 1 0 0 0]\n",
      " [0 0 0 0 0 0 0 0 0 0 0 0 0 0 0 0 0 0 0 1 0 0 0 0]\n",
      " [0 0 0 0 0 0 0 0 0 0 0 0 0 0 0 0 0 0 1 0 0 0 1 1]\n",
      " [0 0 0 0 0 0 0 0 0 0 0 0 0 0 0 0 0 0 0 0 0 1 0 0]\n",
      " [0 0 0 0 0 0 0 0 0 0 0 0 0 0 0 0 0 0 0 0 0 1 0 0]]\n",
      "\n",
      "\u001b[1mCiprofloxacin RDKit adjacency matrix:\u001b[0m\n",
      "[[0.  1.  0.  0.  0.  1.  0.  0.  0.  0.  0.  0.  0.  0.  0.  0.  0.  0.\n",
      "  0.  0.  0.  0.  0.  0. ]\n",
      " [1.  0.  1.  0.  0.  0.  0.  0.  0.  0.  0.  0.  0.  0.  0.  0.  0.  0.\n",
      "  0.  0.  0.  0.  0.  0. ]\n",
      " [0.  1.  0.  1.  0.  0.  0.  0.  0.  0.  0.  0.  0.  0.  0.  0.  0.  0.\n",
      "  0.  0.  0.  0.  0.  0. ]\n",
      " [0.  0.  1.  0.  1.  0.  0.  0.  0.  0.  0.  0.  0.  0.  0.  0.  0.  0.\n",
      "  0.  0.  0.  0.  0.  0. ]\n",
      " [0.  0.  0.  1.  0.  1.  0.  0.  0.  0.  0.  0.  0.  0.  0.  0.  0.  0.\n",
      "  0.  0.  0.  0.  0.  0. ]\n",
      " [1.  0.  0.  0.  1.  0.  1.  0.  0.  0.  0.  0.  0.  0.  0.  0.  0.  0.\n",
      "  0.  0.  0.  0.  0.  0. ]\n",
      " [0.  0.  0.  0.  0.  1.  0.  1.5 1.5 0.  0.  0.  0.  0.  0.  0.  0.  0.\n",
      "  0.  0.  0.  0.  0.  0. ]\n",
      " [0.  0.  0.  0.  0.  0.  1.5 0.  0.  0.  0.  0.  1.5 0.  0.  0.  0.  0.\n",
      "  0.  0.  0.  0.  0.  0. ]\n",
      " [0.  0.  0.  0.  0.  0.  1.5 0.  0.  1.  1.5 0.  0.  0.  0.  0.  0.  0.\n",
      "  0.  0.  0.  0.  0.  0. ]\n",
      " [0.  0.  0.  0.  0.  0.  0.  0.  1.  0.  0.  0.  0.  0.  0.  0.  0.  0.\n",
      "  0.  0.  0.  0.  0.  0. ]\n",
      " [0.  0.  0.  0.  0.  0.  0.  0.  1.5 0.  0.  1.5 0.  0.  0.  0.  0.  0.\n",
      "  0.  0.  0.  0.  0.  0. ]\n",
      " [0.  0.  0.  0.  0.  0.  0.  0.  0.  0.  1.5 0.  1.5 0.  0.  0.  0.  0.\n",
      "  0.  1.5 0.  0.  0.  0. ]\n",
      " [0.  0.  0.  0.  0.  0.  0.  1.5 0.  0.  0.  1.5 0.  1.5 0.  0.  0.  0.\n",
      "  0.  0.  0.  0.  0.  0. ]\n",
      " [0.  0.  0.  0.  0.  0.  0.  0.  0.  0.  0.  0.  1.5 0.  1.  0.  0.  1.5\n",
      "  0.  0.  0.  0.  0.  0. ]\n",
      " [0.  0.  0.  0.  0.  0.  0.  0.  0.  0.  0.  0.  0.  1.  0.  1.  1.  0.\n",
      "  0.  0.  0.  0.  0.  0. ]\n",
      " [0.  0.  0.  0.  0.  0.  0.  0.  0.  0.  0.  0.  0.  0.  1.  0.  1.  0.\n",
      "  0.  0.  0.  0.  0.  0. ]\n",
      " [0.  0.  0.  0.  0.  0.  0.  0.  0.  0.  0.  0.  0.  0.  1.  1.  0.  0.\n",
      "  0.  0.  0.  0.  0.  0. ]\n",
      " [0.  0.  0.  0.  0.  0.  0.  0.  0.  0.  0.  0.  0.  1.5 0.  0.  0.  0.\n",
      "  1.5 0.  0.  0.  0.  0. ]\n",
      " [0.  0.  0.  0.  0.  0.  0.  0.  0.  0.  0.  0.  0.  0.  0.  0.  0.  1.5\n",
      "  0.  1.5 0.  1.  0.  0. ]\n",
      " [0.  0.  0.  0.  0.  0.  0.  0.  0.  0.  0.  1.5 0.  0.  0.  0.  0.  0.\n",
      "  1.5 0.  2.  0.  0.  0. ]\n",
      " [0.  0.  0.  0.  0.  0.  0.  0.  0.  0.  0.  0.  0.  0.  0.  0.  0.  0.\n",
      "  0.  2.  0.  0.  0.  0. ]\n",
      " [0.  0.  0.  0.  0.  0.  0.  0.  0.  0.  0.  0.  0.  0.  0.  0.  0.  0.\n",
      "  1.  0.  0.  0.  2.  1. ]\n",
      " [0.  0.  0.  0.  0.  0.  0.  0.  0.  0.  0.  0.  0.  0.  0.  0.  0.  0.\n",
      "  0.  0.  0.  2.  0.  0. ]\n",
      " [0.  0.  0.  0.  0.  0.  0.  0.  0.  0.  0.  0.  0.  0.  0.  0.  0.  0.\n",
      "  0.  0.  0.  1.  0.  0. ]]\n",
      "\n"
     ]
    }
   ],
   "source": [
    "# 1) Generate adjacency matrix from PySMILES NetworkX Graph object\n",
    "nx_adj_matrix: ndarray = networkx.adjacency_matrix(\n",
    "    pysmiles_mol_graph\n",
    ").todense()\n",
    "\n",
    "print(f'\\033[1mCiprofloxacin PySMILES adjacency matrix:\\033[0m\\n{nx_adj_matrix}\\n')\n",
    "\n",
    "# 2) Use RDKit to parse SMILES string into RDKit Mol object, convert to adjacency matrix and\n",
    "# obtain NetworkX Graph object\n",
    "ciprofloxacin_rdkit_mol = MolFromSmiles(ciprofloxacin_smiles)\n",
    "rdkit_adj_matrix: Mol = GetAdjacencyMatrix(ciprofloxacin_rdkit_mol, useBO=True)\n",
    "rdkit_mol_graph: Graph = networkx.from_numpy_array(rdkit_adj_matrix)\n",
    "\n",
    "print(f'\\033[1mCiprofloxacin RDKit adjacency matrix:\\033[0m\\n{rdkit_adj_matrix}\\n')"
   ]
  },
  {
   "cell_type": "markdown",
   "id": "732c25da-7497-4e2f-912b-d9d75a3966c3",
   "metadata": {},
   "source": [
    "### Part 2 - Node Features"
   ]
  },
  {
   "cell_type": "code",
   "execution_count": 5,
   "id": "33751d89-ad66-4bda-b0cb-b2a70ea283d3",
   "metadata": {},
   "outputs": [
    {
     "name": "stdout",
     "output_type": "stream",
     "text": [
      "\u001b[1mCiprofloxacin element bond types node attribute matrix:\u001b[0m\n",
      "(array([[15.,  8.,  3.,  1.],\n",
      "       [ 8.,  0.,  0.,  0.],\n",
      "       [ 3.,  0.,  0.,  0.],\n",
      "       [ 1.,  0.,  0.,  0.]]), ['C', 'N', 'O', 'F'])\n",
      "\n",
      "\u001b[1mCiprofloxacin one-hot encoded `element` node attribute matrix:\u001b[0m\n",
      "    C  F  N  O\n",
      "0   1  0  0  0\n",
      "1   1  0  0  0\n",
      "2   0  0  1  0\n",
      "3   1  0  0  0\n",
      "4   1  0  0  0\n",
      "5   0  0  1  0\n",
      "6   1  0  0  0\n",
      "7   1  0  0  0\n",
      "8   1  0  0  0\n",
      "9   0  1  0  0\n",
      "10  1  0  0  0\n",
      "11  1  0  0  0\n",
      "12  1  0  0  0\n",
      "13  0  0  1  0\n",
      "14  1  0  0  0\n",
      "15  1  0  0  0\n",
      "16  1  0  0  0\n",
      "17  1  0  0  0\n",
      "18  1  0  0  0\n",
      "19  1  0  0  0\n",
      "20  0  0  0  1\n",
      "21  1  0  0  0\n",
      "22  0  0  0  1\n",
      "23  0  0  0  1\n",
      "\n",
      "\u001b[1mCiprofloxacin one-hot encoded `aromatic` node attribute matrix:\u001b[0m\n",
      "    False  True \n",
      "0       1      0\n",
      "1       1      0\n",
      "2       1      0\n",
      "3       1      0\n",
      "4       1      0\n",
      "5       1      0\n",
      "6       0      1\n",
      "7       0      1\n",
      "8       0      1\n",
      "9       1      0\n",
      "10      0      1\n",
      "11      0      1\n",
      "12      0      1\n",
      "13      0      1\n",
      "14      1      0\n",
      "15      1      0\n",
      "16      1      0\n",
      "17      0      1\n",
      "18      0      1\n",
      "19      0      1\n",
      "20      1      0\n",
      "21      1      0\n",
      "22      1      0\n",
      "23      1      0\n",
      "\n",
      "\u001b[1mCiprofloxacin one-hot encoded `charge` node attribute matrix:\u001b[0m\n",
      "    0\n",
      "0   1\n",
      "1   1\n",
      "2   1\n",
      "3   1\n",
      "4   1\n",
      "5   1\n",
      "6   1\n",
      "7   1\n",
      "8   1\n",
      "9   1\n",
      "10  1\n",
      "11  1\n",
      "12  1\n",
      "13  1\n",
      "14  1\n",
      "15  1\n",
      "16  1\n",
      "17  1\n",
      "18  1\n",
      "19  1\n",
      "20  1\n",
      "21  1\n",
      "22  1\n",
      "23  1\n",
      "\n"
     ]
    }
   ],
   "source": [
    "# Generate attribute matrix (tuple containing ndarray and matrix key) for `element` node attributes. Matrix shows\n",
    "# how many of each element-element bond types there are in the molecule (e.g. C-C, C-O, C-N etc.)\n",
    "pysmiles_element_matrix: Tuple = networkx.attr_matrix(\n",
    "    pysmiles_mol_graph,\n",
    "    node_attr='element'\n",
    ")\n",
    "print(f'\\033[1mCiprofloxacin element bond types node attribute matrix:\\033[0m\\n{pysmiles_element_matrix}\\n')\n",
    "\n",
    "# Generate one-hot encoded node attribute matrix for `element` node attribute\n",
    "one_hot_element_matrix = matrix_utils.node_attribute_matrix(pysmiles_mol_graph, 'element')\n",
    "print(f'\\033[1mCiprofloxacin one-hot encoded `element` node attribute matrix:\\033[0m\\n{one_hot_element_matrix}\\n')\n",
    "\n",
    "# Generate one-hot encoded node attribute matrix for `aromatic` node attribute\n",
    "one_hot_aromatic_matrix = matrix_utils.node_attribute_matrix(pysmiles_mol_graph, 'aromatic')\n",
    "print(f'\\033[1mCiprofloxacin one-hot encoded `aromatic` node attribute matrix:\\033[0m\\n{one_hot_aromatic_matrix}\\n')\n",
    "\n",
    "# Generate one-hot encoded node attribute matrix for `charge` node attribute\n",
    "one_hot_charge_matrix = matrix_utils.node_attribute_matrix(pysmiles_mol_graph, 'charge')\n",
    "print(f'\\033[1mCiprofloxacin one-hot encoded `charge` node attribute matrix:\\033[0m\\n{one_hot_charge_matrix}\\n')"
   ]
  },
  {
   "cell_type": "markdown",
   "id": "b15b21c8-d29e-42ee-a45e-1955e2565b4c",
   "metadata": {},
   "source": [
    "### Part 3 - Edge Features Matrix"
   ]
  },
  {
   "cell_type": "code",
   "execution_count": 6,
   "id": "8f47cc4d-b4b1-4d84-8e7f-e505b13273a1",
   "metadata": {},
   "outputs": [
    {
     "name": "stdout",
     "output_type": "stream",
     "text": [
      "\u001b[1mCiprofloxacin one-hot encoded `order` (bond order) edge attribute matrix:\u001b[0m\n",
      "          1.0  1.5  2.0\n",
      "(0, 1)      1    0    0\n",
      "(0, 5)      1    0    0\n",
      "(1, 2)      1    0    0\n",
      "(2, 3)      1    0    0\n",
      "(3, 4)      1    0    0\n",
      "(4, 5)      1    0    0\n",
      "(5, 6)      1    0    0\n",
      "(6, 7)      0    1    0\n",
      "(6, 8)      0    1    0\n",
      "(7, 12)     0    1    0\n",
      "(8, 9)      1    0    0\n",
      "(8, 10)     0    1    0\n",
      "(10, 11)    0    1    0\n",
      "(11, 12)    0    1    0\n",
      "(11, 19)    0    1    0\n",
      "(12, 13)    0    1    0\n",
      "(13, 14)    1    0    0\n",
      "(13, 17)    0    1    0\n",
      "(14, 15)    1    0    0\n",
      "(14, 16)    1    0    0\n",
      "(15, 16)    1    0    0\n",
      "(17, 18)    0    1    0\n",
      "(18, 19)    0    1    0\n",
      "(18, 21)    1    0    0\n",
      "(19, 20)    0    0    1\n",
      "(21, 22)    0    0    1\n",
      "(21, 23)    1    0    0\n",
      "\n"
     ]
    }
   ],
   "source": [
    "# Generate one-hot encoded edge attribute matrix for `order` (bond order) edge attribute\n",
    "one_hot_bond_order_matrix = matrix_utils.edge_attribute_matrix(pysmiles_mol_graph, 'order')\n",
    "print(f'\\033[1mCiprofloxacin one-hot encoded `order` (bond order) edge attribute matrix:\\033[0m\\n'\n",
    "      f'{one_hot_bond_order_matrix}\\n')"
   ]
  },
  {
   "cell_type": "markdown",
   "id": "1df65cec-7384-4832-ba71-89fb669b55b3",
   "metadata": {},
   "source": [
    "## 1.1.3 Graph Traversal Algorithms\n",
    "**Exercise:**\n",
    "1. Depth-First Search Algorithm\n",
    "    * Add method to custom UndirectedMolecularGraph class that utilises a depth-first search (DFS) algorithm to traverse the graph. Utilise this DFS method to find a path between two nodes, and to detect all connected nodes in the graph.              \n",
    "2. Breadth-First Search Algorithm\n",
    "    * Add method to custom UndirectedMolecularGraph class that utilises a breadth-first search (BFS) algorithm to traverse the graph. Utilise this BFS method to find the shortest path between two nodes.            \n",
    "3. Traverse Graph and Detect Cycles\n",
    "    * Add method(s) to detect and return any cycles in the molecular graph."
   ]
  },
  {
   "cell_type": "markdown",
   "id": "4e4af6a9-19b6-48a7-a6e4-b8f68f9c208d",
   "metadata": {},
   "source": [
    "### Part 1 - Depth-First Search Algorithm"
   ]
  },
  {
   "cell_type": "code",
   "execution_count": 7,
   "id": "5e8af16a-ae6a-45bd-b703-198fad5cded1",
   "metadata": {},
   "outputs": [
    {
     "name": "stdout",
     "output_type": "stream",
     "text": [
      "\u001b[1mNode 0 to Node 8 Path:\u001b[0m\n",
      "[0, 1, 2, 3, 4, 5, 6, 7, 12, 11, 10, 8]\n",
      "\n",
      "\u001b[1mCiprofloxacin Molecular Graph Connected Nodes:\u001b[0m\n",
      "{0, 1, 2, 3, 4, 5, 6, 7, 8, 9, 10, 11, 12, 13, 14, 15, 16, 17, 18, 19, 20, 21, 22, 23}\n",
      "\n"
     ]
    }
   ],
   "source": [
    "# Traverse graph using DFS to find path between two nodes\n",
    "node_0_node_8_path: Union[List, None] = custom_mol_graph.find_path(0, 8)\n",
    "print(f'\\033[1mNode 0 to Node 8 Path:\\033[0m\\n{node_0_node_8_path}\\n')\n",
    "\n",
    "# Traverse graph using DFS to output all connected nodes\n",
    "connected_nodes: Set = custom_mol_graph.connected_components()\n",
    "print(f'\\033[1mCiprofloxacin Molecular Graph Connected Nodes:\\033[0m\\n{connected_nodes}\\n')"
   ]
  },
  {
   "cell_type": "markdown",
   "id": "24a17fd2-798a-4ec5-a2db-24bc7cd7a2dd",
   "metadata": {},
   "source": [
    "### Part 2 - Breadth-First Search Algorithm"
   ]
  },
  {
   "cell_type": "code",
   "execution_count": 8,
   "id": "cc9daa8d-ffed-4c12-86a3-8cd127bb750c",
   "metadata": {},
   "outputs": [
    {
     "name": "stdout",
     "output_type": "stream",
     "text": [
      "\u001b[1mNode 0 to Node 8 Shortest Path:\u001b[0m\n",
      "[0, 5, 6, 8]\n",
      "\n"
     ]
    }
   ],
   "source": [
    "node_0_node_8_shortest_path: Union[List, None] = custom_mol_graph.find_shortest_path(0, 8)\n",
    "print(f'\\033[1mNode 0 to Node 8 Shortest Path:\\033[0m\\n{node_0_node_8_shortest_path}\\n')"
   ]
  },
  {
   "cell_type": "markdown",
   "id": "b9f6daf8-fa2f-4bec-b97e-45920cf4fbdc",
   "metadata": {},
   "source": [
    "### Part 3 - Traverse Graph and Detect Cycles"
   ]
  },
  {
   "cell_type": "code",
   "execution_count": 9,
   "id": "bbae3fb1-c74f-4513-ac02-dc762d26a586",
   "metadata": {},
   "outputs": [
    {
     "name": "stdout",
     "output_type": "stream",
     "text": [
      "\u001b[1mCiprofloxacin Molecular Graph Cycles:\u001b[0m\n",
      "[[0, 1, 2, 3, 4, 5], [6, 7, 12, 11, 10, 8], [12, 11, 19, 18, 17, 13], [14, 15, 16]]\n",
      "\n"
     ]
    }
   ],
   "source": [
    "cycles: Union[List[List], None] = custom_mol_graph.is_cyclic()\n",
    "print(f'\\033[1mCiprofloxacin Molecular Graph Cycles:\\033[0m\\n{cycles}\\n')"
   ]
  }
 ],
 "metadata": {
  "kernelspec": {
   "display_name": "Python 3 (ipykernel)",
   "language": "python",
   "name": "python3"
  },
  "language_info": {
   "codemirror_mode": {
    "name": "ipython",
    "version": 3
   },
   "file_extension": ".py",
   "mimetype": "text/x-python",
   "name": "python",
   "nbconvert_exporter": "python",
   "pygments_lexer": "ipython3",
   "version": "3.12.4"
  }
 },
 "nbformat": 4,
 "nbformat_minor": 5
}
